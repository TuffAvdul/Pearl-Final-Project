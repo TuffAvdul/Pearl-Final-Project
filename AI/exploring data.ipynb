{
 "cells": [
  {
   "cell_type": "code",
   "execution_count": 1,
   "id": "8e6271b2",
   "metadata": {},
   "outputs": [],
   "source": [
    "import os\n",
    "import platform\n",
    "import pandas as pd\n",
    "import numpy as np\n",
    "import matplotlib.pyplot as plt\n",
    "import seaborn as sns\n",
    "\n",
    "if platform.system() == 'Windows':\n",
    "    df = pd.read_csv(os.path.join(\"e:/\", \"Datasets\", \"datafolder\", \"datafile.csv\"))\n",
    "else:\n",
    "    business = pd.read_json(r\"/mnt/D_drive/datasets/yelp_dataset/yelp_academic_dataset_business.json\" , lines=True)\n",
    "    checkin = pd.read_json(r\"/mnt/D_drive/datasets/yelp_dataset/yelp_academic_dataset_checkin.json\" , lines=True)\n",
    "    review = pd.read_json(r\"/mnt/D_drive/datasets/yelp_dataset/yelp_academic_dataset_review.json\" , lines=True)\n",
    "    tip = pd.read_json(r\"/mnt/D_drive/datasets/yelp_dataset/yelp_academic_dataset_tip.json\" , lines=True)\n",
    "    user = pd.read_json(r\"/mnt/D_drive/datasets/yelp_dataset/yelp_academic_dataset_user.json\" , lines=True)"
   ]
  },
  {
   "cell_type": "markdown",
   "id": "326bb1ff",
   "metadata": {},
   "source": [
    "# business Data"
   ]
  },
  {
   "cell_type": "code",
   "execution_count": 2,
   "id": "cf5e3279",
   "metadata": {},
   "outputs": [
    {
     "data": {
      "text/plain": [
       "'\\n - data for the model \\n --------------------\\n  1- business ID\\n  2- categories\\n  3- \\n'"
      ]
     },
     "execution_count": 2,
     "metadata": {},
     "output_type": "execute_result"
    }
   ],
   "source": [
    "'''\n",
    " - data for the model \n",
    " --------------------\n",
    "  1- business ID\n",
    "  2- categories\n",
    "  3- \n",
    "'''"
   ]
  },
  {
   "cell_type": "code",
   "execution_count": 3,
   "id": "e8111443",
   "metadata": {},
   "outputs": [
    {
     "data": {
      "text/html": [
       "<div>\n",
       "<style scoped>\n",
       "    .dataframe tbody tr th:only-of-type {\n",
       "        vertical-align: middle;\n",
       "    }\n",
       "\n",
       "    .dataframe tbody tr th {\n",
       "        vertical-align: top;\n",
       "    }\n",
       "\n",
       "    .dataframe thead th {\n",
       "        text-align: right;\n",
       "    }\n",
       "</style>\n",
       "<table border=\"1\" class=\"dataframe\">\n",
       "  <thead>\n",
       "    <tr style=\"text-align: right;\">\n",
       "      <th></th>\n",
       "      <th>business_id</th>\n",
       "      <th>full_address</th>\n",
       "      <th>hours</th>\n",
       "      <th>open</th>\n",
       "      <th>categories</th>\n",
       "      <th>city</th>\n",
       "      <th>review_count</th>\n",
       "      <th>name</th>\n",
       "      <th>neighborhoods</th>\n",
       "      <th>longitude</th>\n",
       "      <th>state</th>\n",
       "      <th>stars</th>\n",
       "      <th>latitude</th>\n",
       "      <th>attributes</th>\n",
       "      <th>type</th>\n",
       "    </tr>\n",
       "  </thead>\n",
       "  <tbody>\n",
       "    <tr>\n",
       "      <th>0</th>\n",
       "      <td>vcNAWiLM4dR7D2nwwJ7nCA</td>\n",
       "      <td>4840 E Indian School Rd\\nSte 101\\nPhoenix, AZ ...</td>\n",
       "      <td>{'Tuesday': {'close': '17:00', 'open': '08:00'...</td>\n",
       "      <td>True</td>\n",
       "      <td>[Doctors, Health &amp; Medical]</td>\n",
       "      <td>Phoenix</td>\n",
       "      <td>7</td>\n",
       "      <td>Eric Goldberg, MD</td>\n",
       "      <td>[]</td>\n",
       "      <td>-111.983758</td>\n",
       "      <td>AZ</td>\n",
       "      <td>3.5</td>\n",
       "      <td>33.499313</td>\n",
       "      <td>{'By Appointment Only': True}</td>\n",
       "      <td>business</td>\n",
       "    </tr>\n",
       "    <tr>\n",
       "      <th>1</th>\n",
       "      <td>JwUE5GmEO-sH1FuwJgKBlQ</td>\n",
       "      <td>6162 US Highway 51\\nDe Forest, WI 53532</td>\n",
       "      <td>{}</td>\n",
       "      <td>True</td>\n",
       "      <td>[Restaurants]</td>\n",
       "      <td>De Forest</td>\n",
       "      <td>26</td>\n",
       "      <td>Pine Cone Restaurant</td>\n",
       "      <td>[]</td>\n",
       "      <td>-89.335844</td>\n",
       "      <td>WI</td>\n",
       "      <td>4.0</td>\n",
       "      <td>43.238893</td>\n",
       "      <td>{'Take-out': True, 'Good For': {'dessert': Fal...</td>\n",
       "      <td>business</td>\n",
       "    </tr>\n",
       "    <tr>\n",
       "      <th>2</th>\n",
       "      <td>uGykseHzyS5xAMWoN6YUqA</td>\n",
       "      <td>505 W North St\\nDe Forest, WI 53532</td>\n",
       "      <td>{'Monday': {'close': '22:00', 'open': '06:00'}...</td>\n",
       "      <td>True</td>\n",
       "      <td>[American (Traditional), Restaurants]</td>\n",
       "      <td>De Forest</td>\n",
       "      <td>16</td>\n",
       "      <td>Deforest Family Restaurant</td>\n",
       "      <td>[]</td>\n",
       "      <td>-89.353437</td>\n",
       "      <td>WI</td>\n",
       "      <td>4.0</td>\n",
       "      <td>43.252267</td>\n",
       "      <td>{'Take-out': True, 'Good For': {'dessert': Fal...</td>\n",
       "      <td>business</td>\n",
       "    </tr>\n",
       "  </tbody>\n",
       "</table>\n",
       "</div>"
      ],
      "text/plain": [
       "              business_id                                       full_address  \\\n",
       "0  vcNAWiLM4dR7D2nwwJ7nCA  4840 E Indian School Rd\\nSte 101\\nPhoenix, AZ ...   \n",
       "1  JwUE5GmEO-sH1FuwJgKBlQ            6162 US Highway 51\\nDe Forest, WI 53532   \n",
       "2  uGykseHzyS5xAMWoN6YUqA                505 W North St\\nDe Forest, WI 53532   \n",
       "\n",
       "                                               hours  open  \\\n",
       "0  {'Tuesday': {'close': '17:00', 'open': '08:00'...  True   \n",
       "1                                                 {}  True   \n",
       "2  {'Monday': {'close': '22:00', 'open': '06:00'}...  True   \n",
       "\n",
       "                              categories       city  review_count  \\\n",
       "0            [Doctors, Health & Medical]    Phoenix             7   \n",
       "1                          [Restaurants]  De Forest            26   \n",
       "2  [American (Traditional), Restaurants]  De Forest            16   \n",
       "\n",
       "                         name neighborhoods   longitude state  stars  \\\n",
       "0           Eric Goldberg, MD            [] -111.983758    AZ    3.5   \n",
       "1        Pine Cone Restaurant            []  -89.335844    WI    4.0   \n",
       "2  Deforest Family Restaurant            []  -89.353437    WI    4.0   \n",
       "\n",
       "    latitude                                         attributes      type  \n",
       "0  33.499313                      {'By Appointment Only': True}  business  \n",
       "1  43.238893  {'Take-out': True, 'Good For': {'dessert': Fal...  business  \n",
       "2  43.252267  {'Take-out': True, 'Good For': {'dessert': Fal...  business  "
      ]
     },
     "execution_count": 3,
     "metadata": {},
     "output_type": "execute_result"
    }
   ],
   "source": [
    "business.head(3)"
   ]
  },
  {
   "cell_type": "code",
   "execution_count": 4,
   "id": "5680c98b",
   "metadata": {},
   "outputs": [
    {
     "data": {
      "text/plain": [
       "Index(['business_id', 'full_address', 'hours', 'open', 'categories', 'city',\n",
       "       'review_count', 'name', 'neighborhoods', 'longitude', 'state', 'stars',\n",
       "       'latitude', 'attributes', 'type'],\n",
       "      dtype='object')"
      ]
     },
     "execution_count": 4,
     "metadata": {},
     "output_type": "execute_result"
    }
   ],
   "source": [
    "business.columns"
   ]
  },
  {
   "cell_type": "code",
   "execution_count": 5,
   "id": "a2bc7318",
   "metadata": {},
   "outputs": [
    {
     "data": {
      "text/plain": [
       "array(['Phoenix', 'De Forest', 'Mc Farland', 'Middleton', 'Madison',\n",
       "       'Sun Prairie', 'Windsor', 'Monona', 'Chandler', 'Scottsdale',\n",
       "       'Tempe', 'Florence', 'Peoria', 'Glendale', 'Cave Creek',\n",
       "       'Paradise Valley', 'Mesa', 'Ahwatukee', 'Pheonix', 'Anthem',\n",
       "       'Gilbert', 'Gold Canyon', 'Apache Junction', 'Goldfield',\n",
       "       'Casa Grande', 'Coolidge', 'Higley', 'Queen Creek', 'Sun Lakes',\n",
       "       'Goodyear', 'Fort Mcdowell', 'Fountain Hills', 'Fountain Hls',\n",
       "       'Maricopa', 'chandler', 'Black Canyon City', 'Buckeye',\n",
       "       'Litchfield Park', 'Tonopah', 'Surprise', 'Wickenburg', 'Sedona',\n",
       "       'Henderson', 'Las Vegas', 'North Las Vegas', 'N Las Vegas',\n",
       "       'N. Las Vegas', 'C Las Vegas', 'Sunrise', 'Summerlin',\n",
       "       'Las Vegas ', 'Cottage Grove', 'Dane', 'Fitchburg', 'Stoughton',\n",
       "       'Verona', 'Waunakee', 'Trempealeau', 'New River', 'Avondale',\n",
       "       'Rio Verde', 'Guadalupe', 'El Mirage', 'Sun City', 'Tolleson',\n",
       "       'Carefree', 'Gila Bend', 'Laveen', 'Youngtown', 'Morristown',\n",
       "       'Wittmann', 'Sun City West', 'Boulder City', 'Henderston',\n",
       "       'Nellis Air Force Base', 'Nellis AFB', 'Green Valley',\n",
       "       'North Scottsdale', 'Litchfield Park ', 'Nellis Afb',\n",
       "       'San Tan Valley', 'Tortilla Flat', 'Mesa ', 'Fort McDowell',\n",
       "       'Waddell', 'W Henderson', 'Las Vegas, NV 89147', 'Las Vegas East',\n",
       "       'DeForest', 'Paradise', 'Stanfield', 'Atlanta', 'Newberry Springs',\n",
       "       'St Clements', 'Waterloo', 'Kitchener', 'Cambridge', 'Edinburgh',\n",
       "       'Musselburgh', 'South Queensferry', 'Roslin', 'Dalkeith',\n",
       "       'Inverkeithing', 'Loanhead', 'Lasswade', 'Penicuik', 'Bonnyrigg',\n",
       "       'Ratho', 'St Jacobs', 'Arcadia', 'Tonto Basin', 'South Las Vegas',\n",
       "       'Queensferry', 'Spring Valley', 'Enterprise', 'McFarland',\n",
       "       'Columbus', 'Rochester', 'North Las Vegas ', 'N E Las Vegas',\n",
       "       'N W Las Vegas', 'Heidelberg', 'Central Henderson', 'Saint Jacobs',\n",
       "       'Saguaro Lake', 'Cramond', 'Leith', 'W Spring Valley',\n",
       "       'North Queensferry', 'Portobello', 'Water of Leith',\n",
       "       'Centennial Hills', 'Woolwich', 'Victoria Park', 'Juniper Green',\n",
       "       'W Summerlin', 'Lake Las Vegas', 'Henderson ', 'Straiton',\n",
       "       'Deforest', 'Summerlin South', 'Clark County', 'Sun City Anthem',\n",
       "       'Phoenix ', 'Glendale Az', 'Las Vegass', 'Mcfarland', 'Newbridge',\n",
       "       'Sunrise Manor', 'Midlothian', 'Henderson and Las vegas',\n",
       "       'NELLIS AFB', 'Surprise Crossing', 'Fort Kinnaird',\n",
       "       'Chandler-Gilbert', 'Phoenix Sky Harbor Center', 'Eagan',\n",
       "       'Stockbridge', 'New York', 'City of Edinburgh', 'South Gyle',\n",
       "       'Central City Village', 'New Town', 'Scotland', 'London',\n",
       "       'Whitney', 'St. Jacobs', 'Old Town', 'Newington',\n",
       "       'Scottsdale, Phoenix, Chandler, Gilbert', 'Henderson (Stephanie)',\n",
       "       'Henderson (Green  Valley)'], dtype=object)"
      ]
     },
     "execution_count": 5,
     "metadata": {},
     "output_type": "execute_result"
    }
   ],
   "source": [
    "business[\"city\"].unique()"
   ]
  },
  {
   "cell_type": "code",
   "execution_count": 6,
   "id": "4bfd1c65",
   "metadata": {},
   "outputs": [
    {
     "data": {
      "text/plain": [
       "[12022,\n",
       " 7499,\n",
       " 3605,\n",
       " 2887,\n",
       " 2041,\n",
       " 2025,\n",
       " 1914,\n",
       " 1637,\n",
       " 1630,\n",
       " 1196,\n",
       " 1049,\n",
       " 591,\n",
       " 521,\n",
       " 391,\n",
       " 308,\n",
       " 258,\n",
       " 203,\n",
       " 164,\n",
       " 150,\n",
       " 149,\n",
       " 127,\n",
       " 114,\n",
       " 101,\n",
       " 92,\n",
       " 91,\n",
       " 87,\n",
       " 81,\n",
       " 79,\n",
       " 77,\n",
       " 72,\n",
       " 66,\n",
       " 64,\n",
       " 63,\n",
       " 62,\n",
       " 52,\n",
       " 50,\n",
       " 38,\n",
       " 34,\n",
       " 34,\n",
       " 31,\n",
       " 29,\n",
       " 24,\n",
       " 23,\n",
       " 20,\n",
       " 19,\n",
       " 19,\n",
       " 18,\n",
       " 14,\n",
       " 11,\n",
       " 11,\n",
       " 11,\n",
       " 10,\n",
       " 10,\n",
       " 10,\n",
       " 10,\n",
       " 9,\n",
       " 9,\n",
       " 8,\n",
       " 8,\n",
       " 8,\n",
       " 7,\n",
       " 7,\n",
       " 7,\n",
       " 7,\n",
       " 6,\n",
       " 6,\n",
       " 6,\n",
       " 5,\n",
       " 5,\n",
       " 5,\n",
       " 5,\n",
       " 5,\n",
       " 5,\n",
       " 4,\n",
       " 4,\n",
       " 3,\n",
       " 3,\n",
       " 3,\n",
       " 3,\n",
       " 3,\n",
       " 3,\n",
       " 3,\n",
       " 3,\n",
       " 3,\n",
       " 3,\n",
       " 2,\n",
       " 2,\n",
       " 2,\n",
       " 2,\n",
       " 2,\n",
       " 2,\n",
       " 2,\n",
       " 2,\n",
       " 2,\n",
       " 2,\n",
       " 2,\n",
       " 2,\n",
       " 2,\n",
       " 2,\n",
       " 2,\n",
       " 2,\n",
       " 1,\n",
       " 1,\n",
       " 1,\n",
       " 1,\n",
       " 1,\n",
       " 1,\n",
       " 1,\n",
       " 1,\n",
       " 1,\n",
       " 1,\n",
       " 1,\n",
       " 1,\n",
       " 1,\n",
       " 1,\n",
       " 1,\n",
       " 1,\n",
       " 1,\n",
       " 1,\n",
       " 1,\n",
       " 1,\n",
       " 1,\n",
       " 1,\n",
       " 1,\n",
       " 1,\n",
       " 1,\n",
       " 1,\n",
       " 1,\n",
       " 1,\n",
       " 1,\n",
       " 1,\n",
       " 1,\n",
       " 1,\n",
       " 1,\n",
       " 1,\n",
       " 1,\n",
       " 1,\n",
       " 1,\n",
       " 1,\n",
       " 1,\n",
       " 1,\n",
       " 1,\n",
       " 1,\n",
       " 1,\n",
       " 1,\n",
       " 1,\n",
       " 1,\n",
       " 1,\n",
       " 1,\n",
       " 1,\n",
       " 1,\n",
       " 1,\n",
       " 1,\n",
       " 1,\n",
       " 1,\n",
       " 1,\n",
       " 1,\n",
       " 1,\n",
       " 1,\n",
       " 1,\n",
       " 1,\n",
       " 1,\n",
       " 1,\n",
       " 1,\n",
       " 1,\n",
       " 1,\n",
       " 1,\n",
       " 1,\n",
       " 1,\n",
       " 1,\n",
       " 1,\n",
       " 1]"
      ]
     },
     "execution_count": 6,
     "metadata": {},
     "output_type": "execute_result"
    }
   ],
   "source": [
    "sorted(business[\"city\"].value_counts() , reverse = True)"
   ]
  },
  {
   "cell_type": "code",
   "execution_count": 7,
   "id": "b2b76931",
   "metadata": {},
   "outputs": [
    {
     "data": {
      "text/plain": [
       "city\n",
       "Las Vegas                    12022\n",
       "Phoenix                       7499\n",
       "Scottsdale                    3605\n",
       "Edinburgh                     2887\n",
       "Mesa                          2041\n",
       "                             ...  \n",
       "Arcadia                          1\n",
       "Ratho                            1\n",
       "Penicuik                         1\n",
       "Roslin                           1\n",
       "Henderson (Green  Valley)        1\n",
       "Name: count, Length: 172, dtype: int64"
      ]
     },
     "execution_count": 7,
     "metadata": {},
     "output_type": "execute_result"
    }
   ],
   "source": [
    "business[\"city\"].value_counts()"
   ]
  },
  {
   "cell_type": "code",
   "execution_count": 8,
   "id": "f79e323c",
   "metadata": {
    "scrolled": true
   },
   "outputs": [
    {
     "data": {
      "text/plain": [
       "172"
      ]
     },
     "execution_count": 8,
     "metadata": {},
     "output_type": "execute_result"
    }
   ],
   "source": [
    "business[\"city\"].nunique()"
   ]
  },
  {
   "cell_type": "code",
   "execution_count": 9,
   "id": "3c088a52",
   "metadata": {},
   "outputs": [
    {
     "data": {
      "text/plain": [
       "array(['AZ', 'WI', 'NV', 'NC', 'GA', 'CA', 'ON', 'EDH', 'MLN', 'ELN',\n",
       "       'FIF', 'SCB', 'XGL', 'NTH', 'NY', 'KHL', 'MN', 'MA'], dtype=object)"
      ]
     },
     "execution_count": 9,
     "metadata": {},
     "output_type": "execute_result"
    }
   ],
   "source": [
    "business[\"state\"].unique()"
   ]
  },
  {
   "cell_type": "code",
   "execution_count": 10,
   "id": "333b004b",
   "metadata": {},
   "outputs": [
    {
     "data": {
      "text/plain": [
       "state\n",
       "AZ     22181\n",
       "NV     14583\n",
       "EDH     2841\n",
       "WI      2118\n",
       "ON       305\n",
       "MLN      102\n",
       "ELN        8\n",
       "FIF        3\n",
       "SCB        2\n",
       "NY         2\n",
       "CA         1\n",
       "GA         1\n",
       "NC         1\n",
       "XGL        1\n",
       "NTH        1\n",
       "KHL        1\n",
       "MN         1\n",
       "MA         1\n",
       "Name: count, dtype: int64"
      ]
     },
     "execution_count": 10,
     "metadata": {},
     "output_type": "execute_result"
    }
   ],
   "source": [
    "business[\"state\"].value_counts()"
   ]
  },
  {
   "cell_type": "code",
   "execution_count": 11,
   "id": "102f385e",
   "metadata": {},
   "outputs": [
    {
     "data": {
      "text/plain": [
       "(42153, 15)"
      ]
     },
     "execution_count": 11,
     "metadata": {},
     "output_type": "execute_result"
    }
   ],
   "source": [
    "business.shape"
   ]
  },
  {
   "cell_type": "code",
   "execution_count": 12,
   "id": "a5d75cbc",
   "metadata": {},
   "outputs": [
    {
     "data": {
      "text/plain": [
       "0                        {'By Appointment Only': True}\n",
       "1    {'Take-out': True, 'Good For': {'dessert': Fal...\n",
       "2    {'Take-out': True, 'Good For': {'dessert': Fal...\n",
       "3    {'Take-out': True, 'Wi-Fi': 'free', 'Takes Res...\n",
       "4    {'Take-out': True, 'Has TV': False, 'Outdoor S...\n",
       "5                                                   {}\n",
       "6                                                   {}\n",
       "7                                    {'Wi-Fi': 'free'}\n",
       "8    {'Take-out': True, 'Wi-Fi': 'free', 'Good For'...\n",
       "9                                                   {}\n",
       "Name: attributes, dtype: object"
      ]
     },
     "execution_count": 12,
     "metadata": {},
     "output_type": "execute_result"
    }
   ],
   "source": [
    "business[\"attributes\"].head(10)"
   ]
  },
  {
   "cell_type": "code",
   "execution_count": null,
   "id": "b30dec95",
   "metadata": {},
   "outputs": [],
   "source": []
  },
  {
   "cell_type": "code",
   "execution_count": null,
   "id": "1d7aaf33",
   "metadata": {},
   "outputs": [],
   "source": []
  },
  {
   "cell_type": "code",
   "execution_count": null,
   "id": "2f8651e0",
   "metadata": {},
   "outputs": [],
   "source": []
  },
  {
   "cell_type": "code",
   "execution_count": null,
   "id": "12008c93",
   "metadata": {},
   "outputs": [],
   "source": []
  },
  {
   "cell_type": "code",
   "execution_count": null,
   "id": "e550b4dc",
   "metadata": {},
   "outputs": [],
   "source": []
  },
  {
   "cell_type": "code",
   "execution_count": null,
   "id": "352bf396",
   "metadata": {},
   "outputs": [],
   "source": []
  },
  {
   "cell_type": "code",
   "execution_count": null,
   "id": "96c9982d",
   "metadata": {},
   "outputs": [],
   "source": []
  },
  {
   "cell_type": "code",
   "execution_count": null,
   "id": "fca5da78",
   "metadata": {},
   "outputs": [],
   "source": []
  },
  {
   "cell_type": "code",
   "execution_count": null,
   "id": "2990aceb",
   "metadata": {},
   "outputs": [],
   "source": []
  },
  {
   "cell_type": "code",
   "execution_count": null,
   "id": "d7784d6a",
   "metadata": {},
   "outputs": [],
   "source": []
  },
  {
   "cell_type": "code",
   "execution_count": null,
   "id": "8412a49d",
   "metadata": {},
   "outputs": [],
   "source": []
  },
  {
   "cell_type": "code",
   "execution_count": null,
   "id": "1c6f8028",
   "metadata": {},
   "outputs": [],
   "source": []
  },
  {
   "cell_type": "code",
   "execution_count": null,
   "id": "2913d0d6",
   "metadata": {},
   "outputs": [],
   "source": []
  },
  {
   "cell_type": "code",
   "execution_count": null,
   "id": "6e76bda3",
   "metadata": {},
   "outputs": [],
   "source": []
  },
  {
   "cell_type": "code",
   "execution_count": null,
   "id": "d0295e2e",
   "metadata": {},
   "outputs": [],
   "source": []
  },
  {
   "cell_type": "code",
   "execution_count": null,
   "id": "0bdfa4d3",
   "metadata": {},
   "outputs": [],
   "source": []
  },
  {
   "cell_type": "code",
   "execution_count": null,
   "id": "868d3130",
   "metadata": {},
   "outputs": [],
   "source": []
  }
 ],
 "metadata": {
  "kernelspec": {
   "display_name": "Python 3 (ipykernel)",
   "language": "python",
   "name": "python3"
  },
  "language_info": {
   "codemirror_mode": {
    "name": "ipython",
    "version": 3
   },
   "file_extension": ".py",
   "mimetype": "text/x-python",
   "name": "python",
   "nbconvert_exporter": "python",
   "pygments_lexer": "ipython3",
   "version": "3.11.5"
  }
 },
 "nbformat": 4,
 "nbformat_minor": 5
}
