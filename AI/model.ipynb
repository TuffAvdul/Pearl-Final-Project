{
 "cells": [
  {
   "cell_type": "code",
   "execution_count": null,
   "id": "8f60a484",
   "metadata": {},
   "outputs": [],
   "source": [
    "from scipy.sparse import csr_matrix\n",
    "\n",
    "def create_X(df):\n",
    "    \"\"\"\n",
    "    Generates a sparse matrix from ratings dataframe.\n",
    "    \n",
    "    Args:\n",
    "        df: pandas dataframe containing 3 columns (userId, businessId, rating)\n",
    "    \n",
    "    Returns:\n",
    "        X: sparse matrix\n",
    "        user_mapper: dict that maps user id's to user indices\n",
    "        user_inv_mapper: dict that maps user indices to user id's\n",
    "        business_mapper: dict that maps business id's to business indices\n",
    "        business_inv_mapper: dict that maps business indices to business id's\n",
    "    \"\"\"\n",
    "    M = df['userId'].nunique()\n",
    "    N = df['businessId'].nunique()\n",
    "\n",
    "    user_mapper = dict(zip(np.unique(df[\"userId\"]), list(range(M))))\n",
    "    business_mapper = dict(zip(np.unique(df[\"businessId\"]), list(range(N))))\n",
    "    \n",
    "    user_inv_mapper = dict(zip(list(range(M)), np.unique(df[\"userId\"])))\n",
    "    business_inv_mapper = dict(zip(list(range(N)), np.unique(df[\"businessId\"])))\n",
    "    \n",
    "    user_index = [user_mapper[i] for i in df['userId']]\n",
    "    item_index = [business_mapper[i] for i in df['businessId']]\n",
    "\n",
    "    X = csr_matrix((df[\"rating\"], (user_index, item_index)), shape=(M, N))\n",
    "    \n",
    "    return X, user_mapper, business_mapper, user_inv_mapper, business_inv_mapper\n",
    "\n",
    "X, user_mapper, business_mapper, user_inv_mapper, business_inv_mapper = create_X(ratings)\n",
    "X.shape"
   ]
  },
  {
   "cell_type": "code",
   "execution_count": null,
   "id": "401a1b47",
   "metadata": {},
   "outputs": [],
   "source": [
    "n_total = X.shape[0] * X.shape[1]\n",
    "n_ratings = X.nnz\n",
    "sparsity = n_ratings / n_total\n",
    "print(f\"Matrix sparsity: {round(sparsity*100,2)}%\")"
   ]
  },
  {
   "cell_type": "code",
   "execution_count": null,
   "id": "3fb55c0d",
   "metadata": {},
   "outputs": [],
   "source": [
    "n_ratings_per_user = np.diff(X.indptr)\n",
    "len(n_ratings_per_user)\n",
    "\n",
    "print(f\"Most active user rated {n_ratings_per_user.max()} businesses.\")\n",
    "print(f\"Least active user rated {n_ratings_per_user.min()} businesses.\")\n",
    "\n",
    "n_ratings_per_business = np.diff(X.tocsc().indptr)\n",
    "len(n_ratings_per_business)\n",
    "\n",
    "print(f\"Most rated business has {n_ratings_per_business.max()} ratings.\")\n",
    "print(f\"Least rated business has {n_ratings_per_business.min()} ratings.\")\n",
    "\n",
    "plt.figure(figsize=(16,4))\n",
    "plt.subplot(1,2,1)\n",
    "sns.kdeplot(n_ratings_per_user, shade=True)\n",
    "plt.xlim(0)\n",
    "plt.title(\"Number of Ratings Per User\", fontsize=14)\n",
    "plt.xlabel(\"number of ratings per user\")\n",
    "plt.ylabel(\"density\")\n",
    "plt.subplot(1,2,2)\n",
    "sns.kdeplot(n_ratings_per_business, shade=True)\n",
    "plt.xlim(0)\n",
    "plt.title(\"Number of Ratings Per Business\", fontsize=14)\n",
    "plt.xlabel(\"number of ratings per business\")\n",
    "plt.ylabel(\"density\")\n",
    "plt.show()"
   ]
  },
  {
   "cell_type": "code",
   "execution_count": null,
   "id": "c52595a4",
   "metadata": {},
   "outputs": [],
   "source": [
    "from sklearn.neighbors import NearestNeighbors\n",
    "\n",
    "def find_similar_businesses(business_id, X, business_mapper, business_inv_mapper, k, metric='cosine'):\n",
    "    \"\"\"\n",
    "    Finds k-nearest neighbours for a given business id.\n",
    "    \n",
    "    Args:\n",
    "        business_id: id of the business of interest\n",
    "        X: user-item utility matrix\n",
    "        k: number of similar businesses to retrieve\n",
    "        metric: distance metric for kNN calculations\n",
    "    \n",
    "    Output: returns list of k similar business ID's\n",
    "    \"\"\"\n",
    "    X = X.T\n",
    "    neighbour_ids = []\n",
    "    \n",
    "    business_ind = business_mapper[business_id]\n",
    "    business_vec = X[business_ind]\n",
    "    if isinstance(business_vec, (np.ndarray)):\n",
    "        business_vec = business_vec.reshape(1, -1)\n",
    "    # use k+1 since kNN output includes the businessId of interest\n",
    "    kNN = NearestNeighbors(n_neighbors=k+1, algorithm=\"brute\", metric=metric)\n",
    "    kNN.fit(X)\n",
    "    neighbour = kNN.kneighbors(business_vec, return_distance=False)\n",
    "    for i in range(1, k+1):\n",
    "        n = neighbour.item(i)\n",
    "        neighbour_ids.append(business_inv_mapper[n])\n",
    "    return neighbour_ids"
   ]
  },
  {
   "cell_type": "code",
   "execution_count": null,
   "id": "20e9aa01",
   "metadata": {},
   "outputs": [],
   "source": [
    "similar_businesses = find_similar_businesses(1, X, business_mapper, business_inv_mapper, k=10)\n",
    "similar_businesses"
   ]
  },
  {
   "cell_type": "code",
   "execution_count": null,
   "id": "62779bad",
   "metadata": {},
   "outputs": [],
   "source": [
    "business_titles = dict(zip(businesses['businessId'], businesses['title']))\n",
    "\n",
    "business_id = 1\n",
    "\n",
    "similar_businesses = find_similar_businesses(business_id, X, business_mapper, business_inv_mapper, metric='cosine', k=10)\n",
    "business_title = business_titles[business_id]\n",
    "\n",
    "print(f\"Because you liked {business_title}:\")\n",
    "for i in similar_businesses:\n",
    "    print(business_titles[i])"
   ]
  },
  {
   "cell_type": "code",
   "execution_count": null,
   "id": "dcd7f9f0",
   "metadata": {},
   "outputs": [],
   "source": [
    "business_id = 1\n",
    "\n",
    "similar_businesses = find_similar_businesses(business_id, X, business_mapper, business_inv_mapper, metric='euclidean', k=10)\n",
    "business_title = business_titles[business_id]\n",
    "\n",
    "print(f\"Because you liked {business_title}:\")\n",
    "for i in similar_businesses:\n",
    "    print(business_titles[i])\n"
   ]
  },
  {
   "cell_type": "code",
   "execution_count": null,
   "id": "2fde28d9",
   "metadata": {},
   "outputs": [],
   "source": [
    "n_businesses = businesses['businessId'].nunique()\n",
    "print(f\"There are {n_businesses} unique businesses in our dataset.\")\n",
    "\n",
    "categories = set(cat for sublist in businesses['categories'].apply(lambda x: x.split(', ')).tolist() for cat in sublist)\n",
    "\n",
    "for c in categories:\n",
    "    businesses[c] = businesses['categories'].apply(lambda x: 1 if c in x else 0)\n",
    "    \n",
    "business_categories = businesses.drop(columns=['businessId', 'title', 'categories'])\n",
    "\n",
    "business_categories.head()\n",
    "\n",
    "from sklearn.metrics.pairwise import cosine_similarity\n",
    "\n",
    "cosine_sim = cosine_similarity(business_categories, business_categories)\n",
    "print(f\"Dimensions of our categories cosine similarity matrix: {cosine_sim.shape}\")\n"
   ]
  },
  {
   "cell_type": "code",
   "execution_count": null,
   "id": "34f7e50d",
   "metadata": {},
   "outputs": [],
   "source": [
    "from fuzzywuzzy import process\n",
    "\n",
    "def business_finder(title):\n",
    "    all_titles = businesses['title'].tolist()\n",
    "    closest_match = process.extractOne(title, all_titles)\n",
    "    return closest_match[0]\n",
    "\n",
    "# Let's test this out with our Jumanji example.\n",
    "title = business_finder('americano')\n",
    "title\n"
   ]
  },
  {
   "cell_type": "code",
   "execution_count": null,
   "id": "436eea1f",
   "metadata": {},
   "outputs": [],
   "source": [
    "business_idx = dict(zip(businesses['title'], list(businesses.index)))\n",
    "idx = business_idx[title]\n",
    "print(f\"Business index for Jumanji: {idx}\")\n",
    "Using this handy business_idx dictionary, we know that Jumanji is represented by index 1 in our matrix. Let's get the top 10 most similar businesses to Jumanji.\n",
    "n_recommendations = 10\n",
    "sim_scores = list(enumerate(cosine_sim[idx]))\n",
    "sim_scores = sorted(sim_scores, key=lambda x: x[1], reverse=True)\n",
    "sim_scores = sim_scores[1:(n_recommendations+1)]\n",
    "\n",
    "similar_businesses = [i[0] for i in sim_scores]\n",
    "\n",
    "print(f\"Because you liked {title}:\")\n",
    "print(businesses['title'].iloc[similar_businesses])\n"
   ]
  },
  {
   "cell_type": "code",
   "execution_count": null,
   "id": "9e51ada8",
   "metadata": {},
   "outputs": [],
   "source": [
    "def get_content_based_recommendations(title_string, n_recommendations=10):\n",
    "    title = business_finder(title_string)\n",
    "    idx = business_idx[title]\n",
    "    sim_scores = list(enumerate(cosine_sim[idx]))\n",
    "    sim_scores = sorted(sim_scores, key=lambda x: x[1], reverse=True)\n",
    "    sim_scores = sim_scores[1:(n_recommendations+1)]\n",
    "    similar_businesses = [i[0] for i in sim_scores]\n",
    "    print(f\"Because you liked {title}:\")\n",
    "    print(businesses['title'].iloc[similar_businesses])\n"
   ]
  },
  {
   "cell_type": "code",
   "execution_count": null,
   "id": "83ddde78",
   "metadata": {},
   "outputs": [],
   "source": [
    "from sklearn.decomposition import TruncatedSVD\n",
    "\n",
    "svd = TruncatedSVD(n_components=20, n_iter=10)\n",
    "Q = svd.fit_transform(X)\n",
    "Q.shape\n",
    "Now, let's use the reduced dimensions to find similar businesses:\n",
    "business_id = 1\n",
    "similar_businesses = find_similar_businesses(business_id, Q, business_mapper, business_inv_mapper, metric='cosine', k=10)\n",
    "business_title = business_titles[business_id]\n",
    "\n",
    "print(f\"Because you liked {business_title}:\")\n",
    "for i in similar_businesses:\n",
    "    print(business_titles[i])\n"
   ]
  },
  {
   "cell_type": "markdown",
   "id": "c3751eb4",
   "metadata": {},
   "source": [
    " X_{mn}\\approx P_{mk}\\times Q_{nk}^T = \\hat{X} "
   ]
  },
  {
   "cell_type": "code",
   "execution_count": null,
   "id": "a62b59cd",
   "metadata": {},
   "outputs": [],
   "source": []
  },
  {
   "cell_type": "code",
   "execution_count": null,
   "id": "9fee8a2f",
   "metadata": {},
   "outputs": [],
   "source": []
  },
  {
   "cell_type": "code",
   "execution_count": null,
   "id": "88deffbd",
   "metadata": {},
   "outputs": [],
   "source": []
  },
  {
   "cell_type": "code",
   "execution_count": null,
   "id": "15153013",
   "metadata": {},
   "outputs": [],
   "source": []
  },
  {
   "cell_type": "code",
   "execution_count": null,
   "id": "4d6759bb",
   "metadata": {},
   "outputs": [],
   "source": []
  },
  {
   "cell_type": "code",
   "execution_count": null,
   "id": "2d04005f",
   "metadata": {},
   "outputs": [],
   "source": []
  },
  {
   "cell_type": "code",
   "execution_count": null,
   "id": "e850e615",
   "metadata": {},
   "outputs": [],
   "source": []
  },
  {
   "cell_type": "code",
   "execution_count": null,
   "id": "f80915e2",
   "metadata": {},
   "outputs": [],
   "source": []
  },
  {
   "cell_type": "code",
   "execution_count": null,
   "id": "802d0012",
   "metadata": {},
   "outputs": [],
   "source": []
  }
 ],
 "metadata": {
  "kernelspec": {
   "display_name": "Python 3 (ipykernel)",
   "language": "python",
   "name": "python3"
  },
  "language_info": {
   "codemirror_mode": {
    "name": "ipython",
    "version": 3
   },
   "file_extension": ".py",
   "mimetype": "text/x-python",
   "name": "python",
   "nbconvert_exporter": "python",
   "pygments_lexer": "ipython3",
   "version": "3.11.5"
  }
 },
 "nbformat": 4,
 "nbformat_minor": 5
}
